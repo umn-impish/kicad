{
 "cells": [
  {
   "cell_type": "code",
   "execution_count": null,
   "metadata": {},
   "outputs": [],
   "source": [
    "import numpy as np\n",
    "import matplotlib.pyplot as plt\n",
    "%matplotlib qt\n",
    "plt.style.use('nice.mplstyle')\n",
    "import scipy.stats as st"
   ]
  },
  {
   "cell_type": "code",
   "execution_count": null,
   "metadata": {},
   "outputs": [],
   "source": [
    "def active_integrator(record, trigger, integration_length):\n",
    "    '''\n",
    "    Simulate the \"active integration\" circuit in software.\n",
    "    This isn't quite right because it's operating on discrete data points,\n",
    "    but it will produce a mathematically similar shape as the actual reset circuit.\n",
    "    '''\n",
    "    running_sum = 0\n",
    "    ret = np.zeros_like(record)\n",
    "\n",
    "    i = 0\n",
    "    while i < len(record):\n",
    "        d = record[i]\n",
    "        running_sum += d\n",
    "        ret[i] = running_sum\n",
    "\n",
    "        if running_sum < trigger:\n",
    "            i += 1\n",
    "            continue\n",
    "        \n",
    "        # Perform the \"active reset\" integration\n",
    "        endpoint = min(i + integration_length, len(record))\n",
    "        j = i + 1\n",
    "        while j < endpoint:\n",
    "            running_sum += record[j]\n",
    "            ret[j] = running_sum\n",
    "            j += 1\n",
    "        running_sum = 0\n",
    "        i = j\n",
    "\n",
    "    return ret"
   ]
  },
  {
   "cell_type": "code",
   "execution_count": null,
   "metadata": {},
   "outputs": [],
   "source": [
    "def exponential(t, t0, tau, amplitude):\n",
    "    ret = amplitude * np.exp(-(t - t0) / tau)\n",
    "    ret[t < t0] = 0\n",
    "    return ret\n",
    "\n",
    "# simulate a SiPM pulse as many microcell firings\n",
    "crystal_tau = 40\n",
    "num_firings = 200\n",
    "# The pulse locations are exponentially distributed across time\n",
    "pulse_locations = st.expon(scale=crystal_tau).rvs(num_firings)\n",
    "\n",
    "# The SiPM tau determines the decay constant per microcell.\n",
    "# It sets the total pulse duration and rise time\n",
    "sipm_tau = 50\n",
    "times = np.linspace(0, 1000, num=800)\n",
    "pulse = np.zeros_like(times)\n",
    "for loc in pulse_locations:\n",
    "    pulse += exponential(\n",
    "        times, loc, sipm_tau, 1\n",
    "    )\n",
    "\n",
    "# Integrate the pulse using the \"circuit\" equivalent function\n",
    "integrated = active_integrator(pulse, 10, 5*sipm_tau)\n",
    "\n",
    "rug_yval = np.ones_like(pulse_locations) * 0.1\n",
    "fig, ax = plt.subplots()\n",
    "ax.scatter(pulse_locations, rug_yval, label='microcell firing locations', color='black', s=1)\n",
    "ax.plot(times, pulse / pulse.max(), label='(normalized) summation of microcell currents', color='red')\n",
    "ax.plot(times, integrated / integrated.max(), label='(normalized) actively-reset integrated pulse', color='blue')\n",
    "ax.set(\n",
    "    xlabel='time (arbitrary)',\n",
    "    ylabel='normalized amplitude',\n",
    "    title='intended active integrator shape'\n",
    ")\n",
    "ax.legend()"
   ]
  }
 ],
 "metadata": {
  "kernelspec": {
   "display_name": ".venv",
   "language": "python",
   "name": "python3"
  },
  "language_info": {
   "codemirror_mode": {
    "name": "ipython",
    "version": 3
   },
   "file_extension": ".py",
   "mimetype": "text/x-python",
   "name": "python",
   "nbconvert_exporter": "python",
   "pygments_lexer": "ipython3",
   "version": "3.13.0"
  }
 },
 "nbformat": 4,
 "nbformat_minor": 2
}
